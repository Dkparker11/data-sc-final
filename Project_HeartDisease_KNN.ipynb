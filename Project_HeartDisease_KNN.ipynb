{
 "cells": [
  {
   "cell_type": "markdown",
   "id": "24d01344",
   "metadata": {},
   "source": [
    "# The purpose of this project is to use machine learning algorithm K-Nearest Neighbor to predict Heart Disease.\n",
    "\n",
    "\n"
   ]
  },
  {
   "cell_type": "code",
   "execution_count": 1,
   "id": "15aa6911",
   "metadata": {},
   "outputs": [],
   "source": [
    "# The following lines will import needed libraries.\n",
    "from sklearn.neighbors import KNeighborsClassifier\n",
    "from sklearn.model_selection import train_test_split\n",
    "from sklearn.metrics import accuracy_score\n",
    "from sklearn.model_selection import cross_val_score\n",
    "from sklearn.preprocessing import scale\n",
    "from sklearn import metrics\n",
    "import matplotlib.pyplot as plt\n",
    "import numpy as np\n",
    "import pandas as pd"
   ]
  },
  {
   "cell_type": "code",
   "execution_count": 2,
   "id": "dac23c29",
   "metadata": {},
   "outputs": [],
   "source": [
    "# This is our data set\n",
    "\n",
    "df = pd.read_csv(\"https://raw.githubusercontent.com/stay-fcsd/data-sc-final/main/heart.csv\")"
   ]
  },
  {
   "cell_type": "code",
   "execution_count": 3,
   "id": "9fa4797a",
   "metadata": {},
   "outputs": [
    {
     "data": {
      "text/html": [
       "<div>\n",
       "<style scoped>\n",
       "    .dataframe tbody tr th:only-of-type {\n",
       "        vertical-align: middle;\n",
       "    }\n",
       "\n",
       "    .dataframe tbody tr th {\n",
       "        vertical-align: top;\n",
       "    }\n",
       "\n",
       "    .dataframe thead th {\n",
       "        text-align: right;\n",
       "    }\n",
       "</style>\n",
       "<table border=\"1\" class=\"dataframe\">\n",
       "  <thead>\n",
       "    <tr style=\"text-align: right;\">\n",
       "      <th></th>\n",
       "      <th>Age</th>\n",
       "      <th>Sex</th>\n",
       "      <th>ChestPainType</th>\n",
       "      <th>RestingBP</th>\n",
       "      <th>Cholesterol</th>\n",
       "      <th>FastingBS</th>\n",
       "      <th>RestingECG</th>\n",
       "      <th>MaxHR</th>\n",
       "      <th>ExerciseAngina</th>\n",
       "      <th>Oldpeak</th>\n",
       "      <th>ST_Slope</th>\n",
       "      <th>HeartDisease</th>\n",
       "    </tr>\n",
       "  </thead>\n",
       "  <tbody>\n",
       "    <tr>\n",
       "      <th>0</th>\n",
       "      <td>40</td>\n",
       "      <td>M</td>\n",
       "      <td>ATA</td>\n",
       "      <td>140</td>\n",
       "      <td>289</td>\n",
       "      <td>0</td>\n",
       "      <td>Normal</td>\n",
       "      <td>172</td>\n",
       "      <td>N</td>\n",
       "      <td>0.0</td>\n",
       "      <td>Up</td>\n",
       "      <td>0</td>\n",
       "    </tr>\n",
       "    <tr>\n",
       "      <th>100</th>\n",
       "      <td>65</td>\n",
       "      <td>M</td>\n",
       "      <td>ASY</td>\n",
       "      <td>130</td>\n",
       "      <td>275</td>\n",
       "      <td>0</td>\n",
       "      <td>ST</td>\n",
       "      <td>115</td>\n",
       "      <td>Y</td>\n",
       "      <td>1.0</td>\n",
       "      <td>Flat</td>\n",
       "      <td>1</td>\n",
       "    </tr>\n",
       "    <tr>\n",
       "      <th>200</th>\n",
       "      <td>47</td>\n",
       "      <td>M</td>\n",
       "      <td>TA</td>\n",
       "      <td>110</td>\n",
       "      <td>249</td>\n",
       "      <td>0</td>\n",
       "      <td>Normal</td>\n",
       "      <td>150</td>\n",
       "      <td>N</td>\n",
       "      <td>0.0</td>\n",
       "      <td>Up</td>\n",
       "      <td>0</td>\n",
       "    </tr>\n",
       "    <tr>\n",
       "      <th>300</th>\n",
       "      <td>60</td>\n",
       "      <td>M</td>\n",
       "      <td>ASY</td>\n",
       "      <td>160</td>\n",
       "      <td>0</td>\n",
       "      <td>1</td>\n",
       "      <td>Normal</td>\n",
       "      <td>149</td>\n",
       "      <td>N</td>\n",
       "      <td>0.4</td>\n",
       "      <td>Flat</td>\n",
       "      <td>1</td>\n",
       "    </tr>\n",
       "    <tr>\n",
       "      <th>400</th>\n",
       "      <td>50</td>\n",
       "      <td>F</td>\n",
       "      <td>ASY</td>\n",
       "      <td>160</td>\n",
       "      <td>0</td>\n",
       "      <td>1</td>\n",
       "      <td>Normal</td>\n",
       "      <td>110</td>\n",
       "      <td>N</td>\n",
       "      <td>0.0</td>\n",
       "      <td>Flat</td>\n",
       "      <td>1</td>\n",
       "    </tr>\n",
       "    <tr>\n",
       "      <th>500</th>\n",
       "      <td>65</td>\n",
       "      <td>M</td>\n",
       "      <td>ASY</td>\n",
       "      <td>136</td>\n",
       "      <td>248</td>\n",
       "      <td>0</td>\n",
       "      <td>Normal</td>\n",
       "      <td>140</td>\n",
       "      <td>Y</td>\n",
       "      <td>4.0</td>\n",
       "      <td>Down</td>\n",
       "      <td>1</td>\n",
       "    </tr>\n",
       "    <tr>\n",
       "      <th>600</th>\n",
       "      <td>57</td>\n",
       "      <td>M</td>\n",
       "      <td>ASY</td>\n",
       "      <td>130</td>\n",
       "      <td>207</td>\n",
       "      <td>0</td>\n",
       "      <td>ST</td>\n",
       "      <td>96</td>\n",
       "      <td>Y</td>\n",
       "      <td>1.0</td>\n",
       "      <td>Flat</td>\n",
       "      <td>0</td>\n",
       "    </tr>\n",
       "    <tr>\n",
       "      <th>700</th>\n",
       "      <td>42</td>\n",
       "      <td>M</td>\n",
       "      <td>TA</td>\n",
       "      <td>148</td>\n",
       "      <td>244</td>\n",
       "      <td>0</td>\n",
       "      <td>LVH</td>\n",
       "      <td>178</td>\n",
       "      <td>N</td>\n",
       "      <td>0.8</td>\n",
       "      <td>Up</td>\n",
       "      <td>0</td>\n",
       "    </tr>\n",
       "    <tr>\n",
       "      <th>800</th>\n",
       "      <td>43</td>\n",
       "      <td>M</td>\n",
       "      <td>NAP</td>\n",
       "      <td>130</td>\n",
       "      <td>315</td>\n",
       "      <td>0</td>\n",
       "      <td>Normal</td>\n",
       "      <td>162</td>\n",
       "      <td>N</td>\n",
       "      <td>1.9</td>\n",
       "      <td>Up</td>\n",
       "      <td>0</td>\n",
       "    </tr>\n",
       "    <tr>\n",
       "      <th>900</th>\n",
       "      <td>58</td>\n",
       "      <td>M</td>\n",
       "      <td>ASY</td>\n",
       "      <td>114</td>\n",
       "      <td>318</td>\n",
       "      <td>0</td>\n",
       "      <td>ST</td>\n",
       "      <td>140</td>\n",
       "      <td>N</td>\n",
       "      <td>4.4</td>\n",
       "      <td>Down</td>\n",
       "      <td>1</td>\n",
       "    </tr>\n",
       "  </tbody>\n",
       "</table>\n",
       "</div>"
      ],
      "text/plain": [
       "     Age Sex ChestPainType  RestingBP  Cholesterol  FastingBS RestingECG  \\\n",
       "0     40   M           ATA        140          289          0     Normal   \n",
       "100   65   M           ASY        130          275          0         ST   \n",
       "200   47   M            TA        110          249          0     Normal   \n",
       "300   60   M           ASY        160            0          1     Normal   \n",
       "400   50   F           ASY        160            0          1     Normal   \n",
       "500   65   M           ASY        136          248          0     Normal   \n",
       "600   57   M           ASY        130          207          0         ST   \n",
       "700   42   M            TA        148          244          0        LVH   \n",
       "800   43   M           NAP        130          315          0     Normal   \n",
       "900   58   M           ASY        114          318          0         ST   \n",
       "\n",
       "     MaxHR ExerciseAngina  Oldpeak ST_Slope  HeartDisease  \n",
       "0      172              N      0.0       Up             0  \n",
       "100    115              Y      1.0     Flat             1  \n",
       "200    150              N      0.0       Up             0  \n",
       "300    149              N      0.4     Flat             1  \n",
       "400    110              N      0.0     Flat             1  \n",
       "500    140              Y      4.0     Down             1  \n",
       "600     96              Y      1.0     Flat             0  \n",
       "700    178              N      0.8       Up             0  \n",
       "800    162              N      1.9       Up             0  \n",
       "900    140              N      4.4     Down             1  "
      ]
     },
     "execution_count": 3,
     "metadata": {},
     "output_type": "execute_result"
    }
   ],
   "source": [
    "# Print out some of the data\n",
    "\n",
    "df[0::100]"
   ]
  },
  {
   "cell_type": "markdown",
   "id": "8ddb342b",
   "metadata": {},
   "source": [
    "## Here we are going to have to encode the labels using hot encoding."
   ]
  },
  {
   "cell_type": "code",
   "execution_count": 4,
   "id": "d494d461",
   "metadata": {},
   "outputs": [],
   "source": [
    "# Create a new data frame\n",
    "\n",
    "df_he = df"
   ]
  },
  {
   "cell_type": "code",
   "execution_count": 5,
   "id": "435b4819",
   "metadata": {},
   "outputs": [],
   "source": [
    "# The encoding\n",
    "\n",
    "Sex_col = df[[\"Sex\"]]\n",
    "df_he['Male'] = Sex_col\n",
    "df_he['Female'] = Sex_col\n",
    "\n",
    "df_he['Male'] = df_he['Male'].replace(['M'], '1')\n",
    "df_he['Male'] = df_he['Male'].replace(['F'], '0')\n",
    "df_he['Female'] = df_he['Female'].replace(['M'], '0')\n",
    "df_he['Female'] = df_he['Female'].replace(['F'], '1')\n",
    "\n",
    "CPT_col = df[[\"ChestPainType\"]]\n",
    "df_he['ATA'] = CPT_col\n",
    "df_he['TA'] = CPT_col\n",
    "df_he['ASY'] = CPT_col\n",
    "df_he['NAP'] = CPT_col\n",
    "\n",
    "df_he['ATA'] = df_he['ATA'].replace(['ATA'], '1')\n",
    "df_he['ATA'] = df_he['ATA'].replace(['TA'], '0')\n",
    "df_he['ATA'] = df_he['ATA'].replace(['ASY'], '0')\n",
    "df_he['ATA'] = df_he['ATA'].replace(['NAP'], '0')\n",
    "\n",
    "df_he['TA'] = df_he['TA'].replace(['ATA'], '0')\n",
    "df_he['TA'] = df_he['TA'].replace(['TA'], '1')\n",
    "df_he['TA'] = df_he['TA'].replace(['ASY'], '0')\n",
    "df_he['TA'] = df_he['TA'].replace(['NAP'], '0')\n",
    "\n",
    "df_he['ASY'] = df_he['ASY'].replace(['ATA'], '0')\n",
    "df_he['ASY'] = df_he['ASY'].replace(['TA'], '0')\n",
    "df_he['ASY'] = df_he['ASY'].replace(['ASY'], '1')\n",
    "df_he['ASY'] = df_he['ASY'].replace(['NAP'], '0')\n",
    "\n",
    "df_he['NAP'] = df_he['NAP'].replace(['ATA'], '0')\n",
    "df_he['NAP'] = df_he['NAP'].replace(['TA'], '0')\n",
    "df_he['NAP'] = df_he['NAP'].replace(['ASY'], '0')\n",
    "df_he['NAP'] = df_he['NAP'].replace(['NAP'], '1')\n",
    "\n",
    "ECG_col = df[[\"RestingECG\"]]\n",
    "df_he['Normal'] = ECG_col\n",
    "df_he['ST'] = ECG_col\n",
    "df_he['LVH'] = ECG_col\n",
    "\n",
    "df_he['Normal'] = df_he['Normal'].replace(['Normal'], '1')\n",
    "df_he['Normal'] = df_he['Normal'].replace(['ST'], '0')\n",
    "df_he['Normal'] = df_he['Normal'].replace(['LVH'], '0')\n",
    "\n",
    "df_he['ST'] = df_he['ST'].replace(['Normal'], '0')\n",
    "df_he['ST'] = df_he['ST'].replace(['ST'], '1')\n",
    "df_he['ST'] = df_he['ST'].replace(['LVH'], '0')\n",
    "\n",
    "df_he['LVH'] = df_he['LVH'].replace(['Normal'], '0')\n",
    "df_he['LVH'] = df_he['LVH'].replace(['ST'], '0')\n",
    "df_he['LVH'] = df_he['LVH'].replace(['LVH'], '1')\n",
    "\n",
    "ST_col = df[[\"ST_Slope\"]]\n",
    "df_he['Up'] = ST_col\n",
    "df_he['Flat'] = ST_col\n",
    "df_he['Down'] = ST_col\n",
    "\n",
    "df_he['Up'] = df_he['Up'].replace(['Up'], '1')\n",
    "df_he['Up'] = df_he['Up'].replace(['Flat'], '0')\n",
    "df_he['Up'] = df_he['Up'].replace(['Down'], '0')\n",
    "\n",
    "df_he['Flat'] = df_he['Flat'].replace(['Up'], '0')\n",
    "df_he['Flat'] = df_he['Flat'].replace(['Flat'], '1')\n",
    "df_he['Flat'] = df_he['Flat'].replace(['Down'], '0')\n",
    "\n",
    "df_he['Down'] = df_he['Down'].replace(['Up'], '0')\n",
    "df_he['Down'] = df_he['Down'].replace(['Flat'], '0')\n",
    "df_he['Down'] = df_he['Down'].replace(['Down'], '1')\n",
    "\n",
    "df_he['ExerciseAngina'] = df_he['ExerciseAngina'].replace(['Y'], '1')\n",
    "df_he['ExerciseAngina'] = df_he['ExerciseAngina'].replace(['N'], '0')\n",
    "\n",
    "df_he = df_he.drop('Sex', 1)\n",
    "df_he = df_he.drop('ChestPainType', 1)\n",
    "df_he = df_he.drop('RestingECG', 1)\n",
    "df_he = df_he.drop('ST_Slope', 1)\n",
    "\n",
    "HD_col = df_he.pop('HeartDisease')\n",
    "df_he.insert(19, 'HeartDisease', HD_col);"
   ]
  },
  {
   "cell_type": "code",
   "execution_count": 6,
   "id": "114b99f9",
   "metadata": {},
   "outputs": [],
   "source": [
    "# Then we set our features\n",
    "\n",
    "features_cols = ['Age', 'Male', 'Female', 'ATA', 'ASY', 'TA', 'NAP', 'RestingBP', 'Cholesterol', 'FastingBS', 'Normal', 'ST','LVH', 'MaxHR', 'ExerciseAngina', 'Oldpeak', 'Up','Flat','Down']\n",
    "X = df_he[features_cols]\n",
    "y = df_he['HeartDisease']"
   ]
  },
  {
   "cell_type": "code",
   "execution_count": 7,
   "id": "bc682571",
   "metadata": {},
   "outputs": [
    {
     "data": {
      "text/html": [
       "<div>\n",
       "<style scoped>\n",
       "    .dataframe tbody tr th:only-of-type {\n",
       "        vertical-align: middle;\n",
       "    }\n",
       "\n",
       "    .dataframe tbody tr th {\n",
       "        vertical-align: top;\n",
       "    }\n",
       "\n",
       "    .dataframe thead th {\n",
       "        text-align: right;\n",
       "    }\n",
       "</style>\n",
       "<table border=\"1\" class=\"dataframe\">\n",
       "  <thead>\n",
       "    <tr style=\"text-align: right;\">\n",
       "      <th></th>\n",
       "      <th>Age</th>\n",
       "      <th>RestingBP</th>\n",
       "      <th>Cholesterol</th>\n",
       "      <th>FastingBS</th>\n",
       "      <th>MaxHR</th>\n",
       "      <th>ExerciseAngina</th>\n",
       "      <th>Oldpeak</th>\n",
       "      <th>Male</th>\n",
       "      <th>Female</th>\n",
       "      <th>ATA</th>\n",
       "      <th>TA</th>\n",
       "      <th>ASY</th>\n",
       "      <th>NAP</th>\n",
       "      <th>Normal</th>\n",
       "      <th>ST</th>\n",
       "      <th>LVH</th>\n",
       "      <th>Up</th>\n",
       "      <th>Flat</th>\n",
       "      <th>Down</th>\n",
       "      <th>HeartDisease</th>\n",
       "    </tr>\n",
       "  </thead>\n",
       "  <tbody>\n",
       "    <tr>\n",
       "      <th>0</th>\n",
       "      <td>40</td>\n",
       "      <td>140</td>\n",
       "      <td>289</td>\n",
       "      <td>0</td>\n",
       "      <td>172</td>\n",
       "      <td>0</td>\n",
       "      <td>0.0</td>\n",
       "      <td>1</td>\n",
       "      <td>0</td>\n",
       "      <td>1</td>\n",
       "      <td>0</td>\n",
       "      <td>0</td>\n",
       "      <td>0</td>\n",
       "      <td>1</td>\n",
       "      <td>0</td>\n",
       "      <td>0</td>\n",
       "      <td>1</td>\n",
       "      <td>0</td>\n",
       "      <td>0</td>\n",
       "      <td>0</td>\n",
       "    </tr>\n",
       "    <tr>\n",
       "      <th>100</th>\n",
       "      <td>65</td>\n",
       "      <td>130</td>\n",
       "      <td>275</td>\n",
       "      <td>0</td>\n",
       "      <td>115</td>\n",
       "      <td>1</td>\n",
       "      <td>1.0</td>\n",
       "      <td>1</td>\n",
       "      <td>0</td>\n",
       "      <td>0</td>\n",
       "      <td>0</td>\n",
       "      <td>1</td>\n",
       "      <td>0</td>\n",
       "      <td>0</td>\n",
       "      <td>1</td>\n",
       "      <td>0</td>\n",
       "      <td>0</td>\n",
       "      <td>1</td>\n",
       "      <td>0</td>\n",
       "      <td>1</td>\n",
       "    </tr>\n",
       "    <tr>\n",
       "      <th>200</th>\n",
       "      <td>47</td>\n",
       "      <td>110</td>\n",
       "      <td>249</td>\n",
       "      <td>0</td>\n",
       "      <td>150</td>\n",
       "      <td>0</td>\n",
       "      <td>0.0</td>\n",
       "      <td>1</td>\n",
       "      <td>0</td>\n",
       "      <td>0</td>\n",
       "      <td>1</td>\n",
       "      <td>0</td>\n",
       "      <td>0</td>\n",
       "      <td>1</td>\n",
       "      <td>0</td>\n",
       "      <td>0</td>\n",
       "      <td>1</td>\n",
       "      <td>0</td>\n",
       "      <td>0</td>\n",
       "      <td>0</td>\n",
       "    </tr>\n",
       "    <tr>\n",
       "      <th>300</th>\n",
       "      <td>60</td>\n",
       "      <td>160</td>\n",
       "      <td>0</td>\n",
       "      <td>1</td>\n",
       "      <td>149</td>\n",
       "      <td>0</td>\n",
       "      <td>0.4</td>\n",
       "      <td>1</td>\n",
       "      <td>0</td>\n",
       "      <td>0</td>\n",
       "      <td>0</td>\n",
       "      <td>1</td>\n",
       "      <td>0</td>\n",
       "      <td>1</td>\n",
       "      <td>0</td>\n",
       "      <td>0</td>\n",
       "      <td>0</td>\n",
       "      <td>1</td>\n",
       "      <td>0</td>\n",
       "      <td>1</td>\n",
       "    </tr>\n",
       "    <tr>\n",
       "      <th>400</th>\n",
       "      <td>50</td>\n",
       "      <td>160</td>\n",
       "      <td>0</td>\n",
       "      <td>1</td>\n",
       "      <td>110</td>\n",
       "      <td>0</td>\n",
       "      <td>0.0</td>\n",
       "      <td>0</td>\n",
       "      <td>1</td>\n",
       "      <td>0</td>\n",
       "      <td>0</td>\n",
       "      <td>1</td>\n",
       "      <td>0</td>\n",
       "      <td>1</td>\n",
       "      <td>0</td>\n",
       "      <td>0</td>\n",
       "      <td>0</td>\n",
       "      <td>1</td>\n",
       "      <td>0</td>\n",
       "      <td>1</td>\n",
       "    </tr>\n",
       "    <tr>\n",
       "      <th>500</th>\n",
       "      <td>65</td>\n",
       "      <td>136</td>\n",
       "      <td>248</td>\n",
       "      <td>0</td>\n",
       "      <td>140</td>\n",
       "      <td>1</td>\n",
       "      <td>4.0</td>\n",
       "      <td>1</td>\n",
       "      <td>0</td>\n",
       "      <td>0</td>\n",
       "      <td>0</td>\n",
       "      <td>1</td>\n",
       "      <td>0</td>\n",
       "      <td>1</td>\n",
       "      <td>0</td>\n",
       "      <td>0</td>\n",
       "      <td>0</td>\n",
       "      <td>0</td>\n",
       "      <td>1</td>\n",
       "      <td>1</td>\n",
       "    </tr>\n",
       "    <tr>\n",
       "      <th>600</th>\n",
       "      <td>57</td>\n",
       "      <td>130</td>\n",
       "      <td>207</td>\n",
       "      <td>0</td>\n",
       "      <td>96</td>\n",
       "      <td>1</td>\n",
       "      <td>1.0</td>\n",
       "      <td>1</td>\n",
       "      <td>0</td>\n",
       "      <td>0</td>\n",
       "      <td>0</td>\n",
       "      <td>1</td>\n",
       "      <td>0</td>\n",
       "      <td>0</td>\n",
       "      <td>1</td>\n",
       "      <td>0</td>\n",
       "      <td>0</td>\n",
       "      <td>1</td>\n",
       "      <td>0</td>\n",
       "      <td>0</td>\n",
       "    </tr>\n",
       "    <tr>\n",
       "      <th>700</th>\n",
       "      <td>42</td>\n",
       "      <td>148</td>\n",
       "      <td>244</td>\n",
       "      <td>0</td>\n",
       "      <td>178</td>\n",
       "      <td>0</td>\n",
       "      <td>0.8</td>\n",
       "      <td>1</td>\n",
       "      <td>0</td>\n",
       "      <td>0</td>\n",
       "      <td>1</td>\n",
       "      <td>0</td>\n",
       "      <td>0</td>\n",
       "      <td>0</td>\n",
       "      <td>0</td>\n",
       "      <td>1</td>\n",
       "      <td>1</td>\n",
       "      <td>0</td>\n",
       "      <td>0</td>\n",
       "      <td>0</td>\n",
       "    </tr>\n",
       "    <tr>\n",
       "      <th>800</th>\n",
       "      <td>43</td>\n",
       "      <td>130</td>\n",
       "      <td>315</td>\n",
       "      <td>0</td>\n",
       "      <td>162</td>\n",
       "      <td>0</td>\n",
       "      <td>1.9</td>\n",
       "      <td>1</td>\n",
       "      <td>0</td>\n",
       "      <td>0</td>\n",
       "      <td>0</td>\n",
       "      <td>0</td>\n",
       "      <td>1</td>\n",
       "      <td>1</td>\n",
       "      <td>0</td>\n",
       "      <td>0</td>\n",
       "      <td>1</td>\n",
       "      <td>0</td>\n",
       "      <td>0</td>\n",
       "      <td>0</td>\n",
       "    </tr>\n",
       "    <tr>\n",
       "      <th>900</th>\n",
       "      <td>58</td>\n",
       "      <td>114</td>\n",
       "      <td>318</td>\n",
       "      <td>0</td>\n",
       "      <td>140</td>\n",
       "      <td>0</td>\n",
       "      <td>4.4</td>\n",
       "      <td>1</td>\n",
       "      <td>0</td>\n",
       "      <td>0</td>\n",
       "      <td>0</td>\n",
       "      <td>1</td>\n",
       "      <td>0</td>\n",
       "      <td>0</td>\n",
       "      <td>1</td>\n",
       "      <td>0</td>\n",
       "      <td>0</td>\n",
       "      <td>0</td>\n",
       "      <td>1</td>\n",
       "      <td>1</td>\n",
       "    </tr>\n",
       "  </tbody>\n",
       "</table>\n",
       "</div>"
      ],
      "text/plain": [
       "     Age  RestingBP  Cholesterol  FastingBS  MaxHR ExerciseAngina  Oldpeak  \\\n",
       "0     40        140          289          0    172              0      0.0   \n",
       "100   65        130          275          0    115              1      1.0   \n",
       "200   47        110          249          0    150              0      0.0   \n",
       "300   60        160            0          1    149              0      0.4   \n",
       "400   50        160            0          1    110              0      0.0   \n",
       "500   65        136          248          0    140              1      4.0   \n",
       "600   57        130          207          0     96              1      1.0   \n",
       "700   42        148          244          0    178              0      0.8   \n",
       "800   43        130          315          0    162              0      1.9   \n",
       "900   58        114          318          0    140              0      4.4   \n",
       "\n",
       "    Male Female ATA TA ASY NAP Normal ST LVH Up Flat Down  HeartDisease  \n",
       "0      1      0   1  0   0   0      1  0   0  1    0    0             0  \n",
       "100    1      0   0  0   1   0      0  1   0  0    1    0             1  \n",
       "200    1      0   0  1   0   0      1  0   0  1    0    0             0  \n",
       "300    1      0   0  0   1   0      1  0   0  0    1    0             1  \n",
       "400    0      1   0  0   1   0      1  0   0  0    1    0             1  \n",
       "500    1      0   0  0   1   0      1  0   0  0    0    1             1  \n",
       "600    1      0   0  0   1   0      0  1   0  0    1    0             0  \n",
       "700    1      0   0  1   0   0      0  0   1  1    0    0             0  \n",
       "800    1      0   0  0   0   1      1  0   0  1    0    0             0  \n",
       "900    1      0   0  0   1   0      0  1   0  0    0    1             1  "
      ]
     },
     "execution_count": 7,
     "metadata": {},
     "output_type": "execute_result"
    }
   ],
   "source": [
    "# Print out some of the data\n",
    "\n",
    "df_he[::100]"
   ]
  },
  {
   "cell_type": "code",
   "execution_count": 8,
   "id": "b226698e",
   "metadata": {},
   "outputs": [
    {
     "data": {
      "text/plain": [
       "array([[-1.4331398 ,  0.51595242, -0.51595242, ...,  1.15067399,\n",
       "        -1.00218103, -0.27144836],\n",
       "       [-0.47848359, -1.93816322,  1.93816322, ..., -0.86905588,\n",
       "         0.99782372, -0.27144836],\n",
       "       [-1.75135854,  0.51595242, -0.51595242, ...,  1.15067399,\n",
       "        -1.00218103, -0.27144836],\n",
       "       ...,\n",
       "       [ 0.37009972,  0.51595242, -0.51595242, ..., -0.86905588,\n",
       "         0.99782372, -0.27144836],\n",
       "       [ 0.37009972, -1.93816322,  1.93816322, ..., -0.86905588,\n",
       "         0.99782372, -0.27144836],\n",
       "       [-1.64528563,  0.51595242, -0.51595242, ...,  1.15067399,\n",
       "        -1.00218103, -0.27144836]])"
      ]
     },
     "execution_count": 8,
     "metadata": {},
     "output_type": "execute_result"
    }
   ],
   "source": [
    "#Then we scale our X matrix\n",
    "\n",
    "scale(X)"
   ]
  },
  {
   "cell_type": "code",
   "execution_count": 9,
   "id": "ff59d8a5",
   "metadata": {},
   "outputs": [],
   "source": [
    "# Create our test data\n",
    "\n",
    "X_all_train, X_all_test, y_train, y_test = train_test_split(X, y, test_size = 0.25, random_state = 5)"
   ]
  },
  {
   "cell_type": "code",
   "execution_count": 10,
   "id": "b3116ab6",
   "metadata": {},
   "outputs": [],
   "source": [
    "# Instaniate our Nearest Neighbor Classifier with k = 3\n",
    "\n",
    "k = 3\n",
    "my_knn_3 = KNeighborsClassifier(n_neighbors = k)"
   ]
  },
  {
   "cell_type": "code",
   "execution_count": 11,
   "id": "e91cecb4",
   "metadata": {},
   "outputs": [
    {
     "data": {
      "text/plain": [
       "KNeighborsClassifier(n_neighbors=3)"
      ]
     },
     "execution_count": 11,
     "metadata": {},
     "output_type": "execute_result"
    }
   ],
   "source": [
    "# Train our machine\n",
    "\n",
    "my_knn_3.fit(X_all_train, y_train)"
   ]
  },
  {
   "cell_type": "code",
   "execution_count": 12,
   "id": "87961c09",
   "metadata": {},
   "outputs": [],
   "source": [
    "# Predict the value\n",
    "\n",
    "y_predict = my_knn_3.predict(X_all_test)"
   ]
  },
  {
   "cell_type": "code",
   "execution_count": 13,
   "id": "e1814c5d",
   "metadata": {},
   "outputs": [
    {
     "name": "stdout",
     "output_type": "stream",
     "text": [
      "0.7043478260869566\n"
     ]
    }
   ],
   "source": [
    "# Check the predicted value versus actual\n",
    "\n",
    "accuracy = accuracy_score(y_test, y_predict)\n",
    "print(accuracy)"
   ]
  },
  {
   "cell_type": "markdown",
   "id": "b108c1b2",
   "metadata": {},
   "source": [
    "## Here we try using different k-values to see if we can get better accuracy."
   ]
  },
  {
   "cell_type": "code",
   "execution_count": 14,
   "id": "35ffd56e",
   "metadata": {},
   "outputs": [
    {
     "name": "stdout",
     "output_type": "stream",
     "text": [
      "[0.6782608695652174, 0.7043478260869566, 0.7, 0.7086956521739131, 0.7217391304347827, 0.7260869565217392, 0.7391304347826086, 0.7478260869565218, 0.7304347826086957, 0.7217391304347827]\n"
     ]
    }
   ],
   "source": [
    "# Trying different k-values\n",
    "\n",
    "klist = [1,3,5,7,11,13,15,16,17,19]\n",
    "acclist = []\n",
    "\n",
    "for k in klist:\n",
    "    knn_i = KNeighborsClassifier(n_neighbors = k)\n",
    "    knn_i.fit(X_all_train,y_train)\n",
    "    y_predict = knn_i.predict(X_all_test)\n",
    "    accuracy = accuracy_score(y_test, y_predict)\n",
    "    acclist.append(accuracy)\n",
    "\n",
    "print(acclist)"
   ]
  },
  {
   "cell_type": "markdown",
   "id": "7688ec49",
   "metadata": {},
   "source": [
    "# Results\n",
    "\n",
    "We can see that for k = 16 we get an accuracy of 74.78% which is greater than 70.43% when k = 3.\n",
    "Therefore going ahead we will use k = 16 to test which features are the best features."
   ]
  },
  {
   "cell_type": "markdown",
   "id": "e2861c21",
   "metadata": {},
   "source": [
    "## Using the best k(k = 16) from klist to check which feature is the best feature."
   ]
  },
  {
   "cell_type": "code",
   "execution_count": 15,
   "id": "c490fd6b",
   "metadata": {},
   "outputs": [
    {
     "name": "stdout",
     "output_type": "stream",
     "text": [
      "0.6608695652173913\n"
     ]
    }
   ],
   "source": [
    "feature_cols = ['Age']\n",
    "X = df_he[feature_cols]\n",
    "X_train, X_test, y_train, y_test = train_test_split(X, y, test_size = 0.25, random_state = 5)\n",
    "k = 16\n",
    "knn_3 = KNeighborsClassifier(n_neighbors = k)\n",
    "knn_3.fit(X_train, y_train)\n",
    "y_predict = knn_3.predict(X_test)\n",
    "accuracy = accuracy_score(y_test, y_predict)\n",
    "print(accuracy)\n",
    "acclist1 = [19]\n",
    "acclist1.append(accuracy)"
   ]
  },
  {
   "cell_type": "code",
   "execution_count": 16,
   "id": "c0b85e84",
   "metadata": {},
   "outputs": [
    {
     "name": "stdout",
     "output_type": "stream",
     "text": [
      "0.4217391304347826\n"
     ]
    }
   ],
   "source": [
    "feature_cols = ['Male']\n",
    "X = df_he[feature_cols]\n",
    "X_train, X_test, y_train, y_test = train_test_split(X, y, test_size = 0.25, random_state = 5)\n",
    "k = 16\n",
    "knn_3 = KNeighborsClassifier(n_neighbors = k)\n",
    "knn_3.fit(X_train, y_train)\n",
    "y_predict = knn_3.predict(X_test)\n",
    "accuracy = accuracy_score(y_test, y_predict)\n",
    "print(accuracy)\n",
    "acclist1.append(accuracy)"
   ]
  },
  {
   "cell_type": "code",
   "execution_count": 17,
   "id": "23ac2bb0",
   "metadata": {},
   "outputs": [
    {
     "name": "stdout",
     "output_type": "stream",
     "text": [
      "0.7\n"
     ]
    }
   ],
   "source": [
    "feature_cols = ['Female']\n",
    "X = df_he[feature_cols]\n",
    "X_train, X_test, y_train, y_test = train_test_split(X, y, test_size = 0.25, random_state = 5)\n",
    "k = 16\n",
    "knn_3 = KNeighborsClassifier(n_neighbors = k)\n",
    "knn_3.fit(X_train, y_train)\n",
    "y_predict = knn_3.predict(X_test)\n",
    "accuracy = accuracy_score(y_test, y_predict)\n",
    "print(accuracy)\n",
    "acclist1.append(accuracy)"
   ]
  },
  {
   "cell_type": "code",
   "execution_count": 18,
   "id": "ed235f0e",
   "metadata": {},
   "outputs": [
    {
     "name": "stdout",
     "output_type": "stream",
     "text": [
      "0.7\n"
     ]
    }
   ],
   "source": [
    "feature_cols = ['ATA']\n",
    "X = df_he[feature_cols]\n",
    "X_train, X_test, y_train, y_test = train_test_split(X, y, test_size = 0.25, random_state = 5)\n",
    "k = 16\n",
    "knn_3 = KNeighborsClassifier(n_neighbors = k)\n",
    "knn_3.fit(X_train, y_train)\n",
    "y_predict = knn_3.predict(X_test)\n",
    "accuracy = accuracy_score(y_test, y_predict)\n",
    "print(accuracy)\n",
    "acclist1.append(accuracy)"
   ]
  },
  {
   "cell_type": "code",
   "execution_count": 19,
   "id": "9b4582b4",
   "metadata": {},
   "outputs": [
    {
     "name": "stdout",
     "output_type": "stream",
     "text": [
      "0.7608695652173914\n"
     ]
    }
   ],
   "source": [
    "feature_cols = ['ASY']\n",
    "X = df_he[feature_cols]\n",
    "X_train, X_test, y_train, y_test = train_test_split(X, y, test_size = 0.25, random_state = 5)\n",
    "k = 16\n",
    "knn_3 = KNeighborsClassifier(n_neighbors = k)\n",
    "knn_3.fit(X_train, y_train)\n",
    "y_predict = knn_3.predict(X_test)\n",
    "accuracy = accuracy_score(y_test, y_predict)\n",
    "print(accuracy)\n",
    "acclist1.append(accuracy)"
   ]
  },
  {
   "cell_type": "code",
   "execution_count": 20,
   "id": "8406a6f9",
   "metadata": {},
   "outputs": [
    {
     "name": "stdout",
     "output_type": "stream",
     "text": [
      "0.5608695652173913\n"
     ]
    }
   ],
   "source": [
    "feature_cols = ['TA']\n",
    "X = df_he[feature_cols]\n",
    "X_train, X_test, y_train, y_test = train_test_split(X, y, test_size = 0.25, random_state = 5)\n",
    "k = 16\n",
    "knn_3 = KNeighborsClassifier(n_neighbors = k)\n",
    "knn_3.fit(X_train, y_train)\n",
    "y_predict = knn_3.predict(X_test)\n",
    "accuracy = accuracy_score(y_test, y_predict)\n",
    "print(accuracy)\n",
    "acclist1.append(accuracy)"
   ]
  },
  {
   "cell_type": "code",
   "execution_count": 21,
   "id": "cc5d7834",
   "metadata": {},
   "outputs": [
    {
     "name": "stdout",
     "output_type": "stream",
     "text": [
      "0.6565217391304348\n"
     ]
    }
   ],
   "source": [
    "feature_cols = ['NAP']\n",
    "X = df_he[feature_cols]\n",
    "X_train, X_test, y_train, y_test = train_test_split(X, y, test_size = 0.25, random_state = 5)\n",
    "k = 16\n",
    "knn_3 = KNeighborsClassifier(n_neighbors = k)\n",
    "knn_3.fit(X_train, y_train)\n",
    "y_predict = knn_3.predict(X_test)\n",
    "accuracy = accuracy_score(y_test, y_predict)\n",
    "print(accuracy)\n",
    "acclist1.append(accuracy)"
   ]
  },
  {
   "cell_type": "code",
   "execution_count": 22,
   "id": "14923c6f",
   "metadata": {},
   "outputs": [
    {
     "name": "stdout",
     "output_type": "stream",
     "text": [
      "0.5565217391304348\n"
     ]
    }
   ],
   "source": [
    "feature_cols = ['RestingBP']\n",
    "X = df_he[feature_cols]\n",
    "X_train, X_test, y_train, y_test = train_test_split(X, y, test_size = 0.25, random_state = 5)\n",
    "k = 16\n",
    "knn_3 = KNeighborsClassifier(n_neighbors = k)\n",
    "knn_3.fit(X_train, y_train)\n",
    "y_predict = knn_3.predict(X_test)\n",
    "accuracy = accuracy_score(y_test, y_predict)\n",
    "print(accuracy)\n",
    "acclist1.append(accuracy)"
   ]
  },
  {
   "cell_type": "code",
   "execution_count": 23,
   "id": "08bcbae1",
   "metadata": {},
   "outputs": [
    {
     "name": "stdout",
     "output_type": "stream",
     "text": [
      "0.6173913043478261\n"
     ]
    }
   ],
   "source": [
    "feature_cols = ['Cholesterol']\n",
    "X = df_he[feature_cols]\n",
    "X_train, X_test, y_train, y_test = train_test_split(X, y, test_size = 0.25, random_state = 5)\n",
    "k = 16\n",
    "knn_3 = KNeighborsClassifier(n_neighbors = k)\n",
    "knn_3.fit(X_train, y_train)\n",
    "y_predict = knn_3.predict(X_test)\n",
    "accuracy = accuracy_score(y_test, y_predict)\n",
    "print(accuracy)\n",
    "acclist1 = []\n",
    "acclist1.append(accuracy)"
   ]
  },
  {
   "cell_type": "code",
   "execution_count": 24,
   "id": "56bcd493",
   "metadata": {},
   "outputs": [
    {
     "name": "stdout",
     "output_type": "stream",
     "text": [
      "0.6043478260869565\n"
     ]
    }
   ],
   "source": [
    "feature_cols = ['FastingBS']\n",
    "X = df_he[feature_cols]\n",
    "X_train, X_test, y_train, y_test = train_test_split(X, y, test_size = 0.25, random_state = 5)\n",
    "k = 16\n",
    "knn_3 = KNeighborsClassifier(n_neighbors = k)\n",
    "knn_3.fit(X_train, y_train)\n",
    "y_predict = knn_3.predict(X_test)\n",
    "accuracy = accuracy_score(y_test, y_predict)\n",
    "print(accuracy)\n",
    "acclist1.append(accuracy)"
   ]
  },
  {
   "cell_type": "code",
   "execution_count": 25,
   "id": "02089c80",
   "metadata": {},
   "outputs": [
    {
     "name": "stdout",
     "output_type": "stream",
     "text": [
      "0.5260869565217391\n"
     ]
    }
   ],
   "source": [
    "feature_cols = ['Normal']\n",
    "X = df_he[feature_cols]\n",
    "X_train, X_test, y_train, y_test = train_test_split(X, y, test_size = 0.25, random_state = 5)\n",
    "k = 16\n",
    "knn_3 = KNeighborsClassifier(n_neighbors = k)\n",
    "knn_3.fit(X_train, y_train)\n",
    "y_predict = knn_3.predict(X_test)\n",
    "accuracy = accuracy_score(y_test, y_predict)\n",
    "print(accuracy)\n",
    "acclist1.append(accuracy)"
   ]
  },
  {
   "cell_type": "code",
   "execution_count": 26,
   "id": "8dd3e438",
   "metadata": {},
   "outputs": [
    {
     "name": "stdout",
     "output_type": "stream",
     "text": [
      "0.5043478260869565\n"
     ]
    }
   ],
   "source": [
    "feature_cols = ['ST']\n",
    "X = df_he[feature_cols]\n",
    "X_train, X_test, y_train, y_test = train_test_split(X, y, test_size = 0.25, random_state = 5)\n",
    "k = 16\n",
    "knn_3 = KNeighborsClassifier(n_neighbors = k)\n",
    "knn_3.fit(X_train, y_train)\n",
    "y_predict = knn_3.predict(X_test)\n",
    "accuracy = accuracy_score(y_test, y_predict)\n",
    "print(accuracy)\n",
    "acclist1.append(accuracy)"
   ]
  },
  {
   "cell_type": "code",
   "execution_count": 27,
   "id": "5780e4d9",
   "metadata": {},
   "outputs": [
    {
     "name": "stdout",
     "output_type": "stream",
     "text": [
      "0.4434782608695652\n"
     ]
    }
   ],
   "source": [
    "feature_cols = ['LVH']\n",
    "X = df_he[feature_cols]\n",
    "X_train, X_test, y_train, y_test = train_test_split(X, y, test_size = 0.25, random_state = 5)\n",
    "k = 16\n",
    "knn_3 = KNeighborsClassifier(n_neighbors = k)\n",
    "knn_3.fit(X_train, y_train)\n",
    "y_predict = knn_3.predict(X_test)\n",
    "accuracy = accuracy_score(y_test, y_predict)\n",
    "print(accuracy)\n",
    "acclist1.append(accuracy)"
   ]
  },
  {
   "cell_type": "code",
   "execution_count": 28,
   "id": "bfbd56a9",
   "metadata": {},
   "outputs": [
    {
     "name": "stdout",
     "output_type": "stream",
     "text": [
      "0.6565217391304348\n"
     ]
    }
   ],
   "source": [
    "feature_cols = ['MaxHR']\n",
    "X = df_he[feature_cols]\n",
    "X_train, X_test, y_train, y_test = train_test_split(X, y, test_size = 0.25, random_state = 5)\n",
    "k = 16\n",
    "knn_3 = KNeighborsClassifier(n_neighbors = k)\n",
    "knn_3.fit(X_train, y_train)\n",
    "y_predict = knn_3.predict(X_test)\n",
    "accuracy = accuracy_score(y_test, y_predict)\n",
    "print(accuracy)\n",
    "acclist1.append(accuracy)"
   ]
  },
  {
   "cell_type": "code",
   "execution_count": 29,
   "id": "8c049b69",
   "metadata": {},
   "outputs": [
    {
     "name": "stdout",
     "output_type": "stream",
     "text": [
      "0.7434782608695653\n"
     ]
    }
   ],
   "source": [
    "feature_cols = ['ExerciseAngina']\n",
    "X = df_he[feature_cols]\n",
    "X_train, X_test, y_train, y_test = train_test_split(X, y, test_size = 0.25, random_state = 5)\n",
    "k = 16\n",
    "knn_3 = KNeighborsClassifier(n_neighbors = k)\n",
    "knn_3.fit(X_train, y_train)\n",
    "y_predict = knn_3.predict(X_test)\n",
    "accuracy = accuracy_score(y_test, y_predict)\n",
    "print(accuracy)\n",
    "acclist1.append(accuracy)"
   ]
  },
  {
   "cell_type": "code",
   "execution_count": 30,
   "id": "9c7d2759",
   "metadata": {},
   "outputs": [
    {
     "name": "stdout",
     "output_type": "stream",
     "text": [
      "0.6869565217391305\n"
     ]
    }
   ],
   "source": [
    "feature_cols = ['Oldpeak']\n",
    "X = df_he[feature_cols]\n",
    "X_train, X_test, y_train, y_test = train_test_split(X, y, test_size = 0.25, random_state = 5)\n",
    "k = 16\n",
    "knn_3 = KNeighborsClassifier(n_neighbors = k)\n",
    "knn_3.fit(X_train, y_train)\n",
    "y_predict = knn_3.predict(X_test)\n",
    "accuracy = accuracy_score(y_test, y_predict)\n",
    "print(accuracy)\n",
    "acclist1.append(accuracy)"
   ]
  },
  {
   "cell_type": "code",
   "execution_count": 31,
   "id": "a58c0a17",
   "metadata": {},
   "outputs": [
    {
     "name": "stdout",
     "output_type": "stream",
     "text": [
      "0.8043478260869565\n"
     ]
    }
   ],
   "source": [
    "feature_cols = ['Up']\n",
    "X = df_he[feature_cols]\n",
    "X_train, X_test, y_train, y_test = train_test_split(X, y, test_size = 0.25, random_state = 5)\n",
    "k = 16\n",
    "knn_3 = KNeighborsClassifier(n_neighbors = k)\n",
    "knn_3.fit(X_train, y_train)\n",
    "y_predict = knn_3.predict(X_test)\n",
    "accuracy = accuracy_score(y_test, y_predict)\n",
    "print(accuracy)\n",
    "acclist1.append(accuracy)"
   ]
  },
  {
   "cell_type": "code",
   "execution_count": 32,
   "id": "714bbda8",
   "metadata": {},
   "outputs": [
    {
     "name": "stdout",
     "output_type": "stream",
     "text": [
      "0.7565217391304347\n"
     ]
    }
   ],
   "source": [
    "feature_cols = ['Flat']\n",
    "X = df_he[feature_cols]\n",
    "X_train, X_test, y_train, y_test = train_test_split(X, y, test_size = 0.25, random_state = 5)\n",
    "k = 16\n",
    "knn_3 = KNeighborsClassifier(n_neighbors = k)\n",
    "knn_3.fit(X_train, y_train)\n",
    "y_predict = knn_3.predict(X_test)\n",
    "accuracy = accuracy_score(y_test, y_predict)\n",
    "print(accuracy)\n",
    "acclist1.append(accuracy)"
   ]
  },
  {
   "cell_type": "code",
   "execution_count": 33,
   "id": "58730ddc",
   "metadata": {},
   "outputs": [
    {
     "name": "stdout",
     "output_type": "stream",
     "text": [
      "0.5782608695652174\n"
     ]
    }
   ],
   "source": [
    "feature_cols = ['Down']\n",
    "X = df_he[feature_cols]\n",
    "X_train, X_test, y_train, y_test = train_test_split(X, y, test_size = 0.25, random_state = 5)\n",
    "k = 16\n",
    "knn_3 = KNeighborsClassifier(n_neighbors = k)\n",
    "knn_3.fit(X_train, y_train)\n",
    "y_predict = knn_3.predict(X_test)\n",
    "accuracy = accuracy_score(y_test, y_predict)\n",
    "print(accuracy)\n",
    "acclist1.append(accuracy)"
   ]
  },
  {
   "cell_type": "markdown",
   "id": "ef461fc3",
   "metadata": {},
   "source": [
    "## List the best features in order by accuracy:\n",
    "\n",
    "1st 'Up'\n",
    "\n",
    "2nd 'ASY'\n",
    "\n",
    "3rd 'Flat'\n",
    "\n",
    "4th 'ExerciseAngina'\n",
    "\n",
    "5th (tie) 'Female' & 'ATA'\n",
    "\n",
    "6th 'Oldpeak'\n",
    "\n",
    "7th 'Age'\n",
    "\n",
    "8th (tie) 'NAP' & 'MaxHR'\n",
    "\n",
    "9th 'Cholesterol'\n",
    "\n",
    "10th 'FastingBS'\n",
    "\n",
    "11th 'Down'\n",
    "\n",
    "12th 'TA' \n",
    "\n",
    "13th 'RestingBP'\n",
    "\n",
    "14th 'Normal'\n",
    "\n",
    "15th 'ST'\n",
    "\n",
    "16th 'Male'"
   ]
  },
  {
   "cell_type": "markdown",
   "id": "f874c8ff",
   "metadata": {},
   "source": [
    "## Test the best combination of the top four features.\n",
    "\n",
    "Now we are going to test which combination of the best features gives us the highest accuracy."
   ]
  },
  {
   "cell_type": "code",
   "execution_count": 34,
   "id": "4ddb0380",
   "metadata": {},
   "outputs": [],
   "source": [
    "feature_cols = ['Up','ASY']\n",
    "X = df_he[feature_cols]\n",
    "X_train, X_test, y_train, y_test = train_test_split(X, y, test_size = 0.25, random_state = 5)\n",
    "k = 16\n",
    "knn_3 = KNeighborsClassifier(n_neighbors = k)\n",
    "knn_3.fit(X_train, y_train)\n",
    "y_predict = knn_3.predict(X_test)\n",
    "accuracy = accuracy_score(y_test, y_predict)\n",
    "acclist2 = []\n",
    "acclist2.append(accuracy)"
   ]
  },
  {
   "cell_type": "code",
   "execution_count": 35,
   "id": "7fff85f3",
   "metadata": {},
   "outputs": [],
   "source": [
    "feature_cols = ['Up','Flat']\n",
    "X = df_he[feature_cols]\n",
    "X_train, X_test, y_train, y_test = train_test_split(X, y, test_size = 0.25, random_state = 5)\n",
    "k = 16\n",
    "knn_3 = KNeighborsClassifier(n_neighbors = k)\n",
    "knn_3.fit(X_train, y_train)\n",
    "y_predict = knn_3.predict(X_test)\n",
    "accuracy = accuracy_score(y_test, y_predict)\n",
    "acclist2.append(accuracy)"
   ]
  },
  {
   "cell_type": "code",
   "execution_count": 36,
   "id": "7446aee1",
   "metadata": {},
   "outputs": [],
   "source": [
    "feature_cols = ['Up','ExerciseAngina']\n",
    "X = df_he[feature_cols]\n",
    "X_train, X_test, y_train, y_test = train_test_split(X, y, test_size = 0.25, random_state = 5)\n",
    "k = 16\n",
    "knn_3 = KNeighborsClassifier(n_neighbors = k)\n",
    "knn_3.fit(X_train, y_train)\n",
    "y_predict = knn_3.predict(X_test)\n",
    "accuracy = accuracy_score(y_test, y_predict)\n",
    "acclist2.append(accuracy)"
   ]
  },
  {
   "cell_type": "code",
   "execution_count": 37,
   "id": "124169f1",
   "metadata": {},
   "outputs": [],
   "source": [
    "feature_cols = ['ASY','Flat']\n",
    "X = df_he[feature_cols]\n",
    "X_train, X_test, y_train, y_test = train_test_split(X, y, test_size = 0.25, random_state = 5)\n",
    "k = 16\n",
    "knn_3 = KNeighborsClassifier(n_neighbors = k)\n",
    "knn_3.fit(X_train, y_train)\n",
    "y_predict = knn_3.predict(X_test)\n",
    "accuracy = accuracy_score(y_test, y_predict)\n",
    "acclist2.append(accuracy)"
   ]
  },
  {
   "cell_type": "code",
   "execution_count": 38,
   "id": "cca30fe7",
   "metadata": {},
   "outputs": [],
   "source": [
    "feature_cols = ['ASY','ExerciseAngina']\n",
    "X = df_he[feature_cols]\n",
    "X_train, X_test, y_train, y_test = train_test_split(X, y, test_size = 0.25, random_state = 5)\n",
    "k = 16\n",
    "knn_3 = KNeighborsClassifier(n_neighbors = k)\n",
    "knn_3.fit(X_train, y_train)\n",
    "y_predict = knn_3.predict(X_test)\n",
    "accuracy = accuracy_score(y_test, y_predict)\n",
    "acclist2.append(accuracy)"
   ]
  },
  {
   "cell_type": "code",
   "execution_count": 39,
   "id": "c5f4b7d5",
   "metadata": {},
   "outputs": [],
   "source": [
    "feature_cols = ['Flat','ExerciseAngina']\n",
    "X = df_he[feature_cols]\n",
    "X_train, X_test, y_train, y_test = train_test_split(X, y, test_size = 0.25, random_state = 5)\n",
    "k = 16\n",
    "knn_3 = KNeighborsClassifier(n_neighbors = k)\n",
    "knn_3.fit(X_train, y_train)\n",
    "y_predict = knn_3.predict(X_test)\n",
    "accuracy = accuracy_score(y_test, y_predict)\n",
    "acclist2.append(accuracy)"
   ]
  },
  {
   "cell_type": "code",
   "execution_count": 40,
   "id": "e97fda2d",
   "metadata": {},
   "outputs": [
    {
     "name": "stdout",
     "output_type": "stream",
     "text": [
      "[0.7478260869565218, 0.8043478260869565, 0.8130434782608695, 0.808695652173913, 0.808695652173913, 0.808695652173913]\n"
     ]
    }
   ],
   "source": [
    "print(acclist2)"
   ]
  },
  {
   "cell_type": "markdown",
   "id": "6d13319d",
   "metadata": {},
   "source": [
    "## 1st & 4th\n",
    "\n",
    "We can see that the first and fourth best features being the ST_Slope = 'Up' and ExerciseAngina gives us the best accuracy.  "
   ]
  },
  {
   "cell_type": "markdown",
   "id": "0e73346e",
   "metadata": {},
   "source": [
    "## Predicting the probalbility & showing the performance"
   ]
  },
  {
   "cell_type": "code",
   "execution_count": 58,
   "id": "00a5fea8",
   "metadata": {},
   "outputs": [
    {
     "data": {
      "text/plain": [
       "KNeighborsClassifier(n_neighbors=16)"
      ]
     },
     "execution_count": 58,
     "metadata": {},
     "output_type": "execute_result"
    }
   ],
   "source": [
    "# Instaniate our Nearest Neighbor Classifier with k = 16\n",
    "\n",
    "k = 16\n",
    "my_knn_16 = KNeighborsClassifier(n_neighbors = k)\n",
    "my_knn_16.fit(X_all_train, y_train)"
   ]
  },
  {
   "cell_type": "code",
   "execution_count": 59,
   "id": "1aeae8c6",
   "metadata": {},
   "outputs": [],
   "source": [
    "# Predict the Probability\n",
    "\n",
    "y_predict_proba_knn = my_knn_16.predict_proba(X_all_test)"
   ]
  },
  {
   "cell_type": "code",
   "execution_count": 60,
   "id": "b64cc3a8",
   "metadata": {},
   "outputs": [],
   "source": [
    "fpr, tpr, thresholds = metrics.roc_curve(y_test, y_predict_proba_knn[:,1], pos_label = 1)"
   ]
  },
  {
   "cell_type": "code",
   "execution_count": 61,
   "id": "b734bdaa",
   "metadata": {},
   "outputs": [
    {
     "name": "stdout",
     "output_type": "stream",
     "text": [
      "0.789279900782885\n"
     ]
    }
   ],
   "source": [
    "AUC = metrics.auc(fpr, tpr)\n",
    "print(AUC)"
   ]
  },
  {
   "cell_type": "code",
   "execution_count": 62,
   "id": "b5fa9d10",
   "metadata": {},
   "outputs": [
    {
     "data": {
      "image/png": "[encoded data removed]",
      "text/plain": [
       "<Figure size 432x288 with 1 Axes>"
      ]
     },
     "metadata": {
      "needs_background": "light"
     },
     "output_type": "display_data"
    }
   ],
   "source": [
    "# Show the ROC\n",
    "\n",
    "%matplotlib inline\n",
    "\n",
    "plt.figure()\n",
    "\n",
    "# Roc Curve:\n",
    "plt.plot(fpr, tpr, color='red', lw=2, \n",
    "         label='ROC Curve (area = %0.2f)' % AUC)\n",
    "\n",
    "# Random Guess line:\n",
    "plt.plot([0, 1], [0, 1], color='blue', lw=1, linestyle='--')\n",
    "\n",
    "# Defining The Range of X-Axis and Y-Axis:\n",
    "plt.xlim([-0.005, 1.005])\n",
    "plt.ylim([0.0, 1.01])\n",
    "\n",
    "# Labels, Title, Legend:\n",
    "plt.xlabel('False Positive Rate')\n",
    "plt.ylabel('True Positive Rate')\n",
    "plt.title('Receiver operating characteristic')\n",
    "plt.legend(loc = \"lower right\")\n",
    "\n",
    "plt.show()"
   ]
  },
  {
   "cell_type": "markdown",
   "id": "9e397103",
   "metadata": {},
   "source": [
    "As shown thanks to the graph above we can see that nearest neighbor has only a preformance rate of 78.92%. Therefore we can only say its reliable almost 79% of the time."
   ]
  },
  {
   "cell_type": "code",
   "execution_count": null,
   "id": "09c7b458",
   "metadata": {},
   "outputs": [],
   "source": []
  }
 ],
 "metadata": {
  "kernelspec": {
   "display_name": "Python 3",
   "language": "python",
   "name": "python3"
  },
  "language_info": {
   "codemirror_mode": {
    "name": "ipython",
    "version": 3
   },
   "file_extension": ".py",
   "mimetype": "text/x-python",
   "name": "python",
   "nbconvert_exporter": "python",
   "pygments_lexer": "ipython3",
   "version": "3.8.8"
  }
 },
 "nbformat": 4,
 "nbformat_minor": 5
}
